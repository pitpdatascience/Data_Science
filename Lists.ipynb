{
  "nbformat": 4,
  "nbformat_minor": 0,
  "metadata": {
    "colab": {
      "provenance": [],
      "include_colab_link": true
    },
    "kernelspec": {
      "name": "python3",
      "display_name": "Python 3"
    },
    "language_info": {
      "name": "python"
    }
  },
  "cells": [
    {
      "cell_type": "markdown",
      "metadata": {
        "id": "view-in-github",
        "colab_type": "text"
      },
      "source": [
        "<a href=\"https://colab.research.google.com/github/pitpdatascience/Data_Science/blob/main/Lists.ipynb\" target=\"_parent\"><img src=\"https://colab.research.google.com/assets/colab-badge.svg\" alt=\"Open In Colab\"/></a>"
      ]
    },
    {
      "cell_type": "markdown",
      "source": [
        "# **List**\n",
        "____\n",
        "* A list is collection of different data types which is ordered and modifiable(mutable).\n",
        "\n",
        "* A list can be empty or it may have different data type items.\n",
        "\n",
        "* Element of the list are enclosed in square brackets and separated by a comma.\n",
        "\n",
        "* lists indices also start from 0"
      ],
      "metadata": {
        "id": "dl1-mO2V8Cti"
      }
    },
    {
      "cell_type": "markdown",
      "source": [
        "# **How to Create a List**\n",
        "In Python we can create lists in two ways:\n",
        "\n",
        "* Using list built-in function `list()`\n",
        "\n",
        "* Using square brackets, [ ]\n",
        "\n"
      ],
      "metadata": {
        "id": "-d9nRQxuBbtz"
      }
    },
    {
      "cell_type": "code",
      "source": [
        "# first method\n",
        "list1 = list()\n",
        "print(list1)\n",
        "print(type(list1))\n",
        "\n",
        "# second method\n",
        "\n",
        "list2 = [1, 2, 3, 4]\n",
        "print(list2)\n",
        "print(type(list2))\n"
      ],
      "metadata": {
        "colab": {
          "base_uri": "https://localhost:8080/"
        },
        "id": "Zc6dfpaTaRgx",
        "outputId": "1ba3956a-dcb7-41f8-8765-9028d2b693e1"
      },
      "execution_count": null,
      "outputs": [
        {
          "output_type": "stream",
          "name": "stdout",
          "text": [
            "[]\n",
            "<class 'list'>\n",
            "[1, 2, 3, 4]\n",
            "<class 'list'>\n"
          ]
        }
      ]
    },
    {
      "cell_type": "markdown",
      "source": [
        "Lists can have items of different data types"
      ],
      "metadata": {
        "id": "bvLs6KePGg8S"
      }
    },
    {
      "cell_type": "code",
      "source": [
        "list3 = ['iCodeGuru', 12, True]\n",
        "print(list3)"
      ],
      "metadata": {
        "colab": {
          "base_uri": "https://localhost:8080/"
        },
        "id": "89h5tmBDrX69",
        "outputId": "2d0c106b-56e1-4b94-9e59-7634d40d95cd"
      },
      "execution_count": null,
      "outputs": [
        {
          "output_type": "stream",
          "name": "stdout",
          "text": [
            "['iCodeGuru', 12, True]\n"
          ]
        }
      ]
    },
    {
      "cell_type": "markdown",
      "source": [
        "# **List Length**\n",
        "Use `len() `function to determine how many items a list has."
      ],
      "metadata": {
        "id": "NKpTz7PeFvzQ"
      }
    },
    {
      "cell_type": "code",
      "source": [
        "list3 = ['iCodeGuru', 12, True]\n",
        "print(len(list3))"
      ],
      "metadata": {
        "colab": {
          "base_uri": "https://localhost:8080/"
        },
        "id": "Yh2hcT-9r7Ut",
        "outputId": "21e40d19-503a-4dcc-db0f-4d0f74137b23"
      },
      "execution_count": null,
      "outputs": [
        {
          "output_type": "stream",
          "name": "stdout",
          "text": [
            "3\n"
          ]
        }
      ]
    },
    {
      "cell_type": "markdown",
      "source": [
        "# **Accessing List Items**\n",
        "\n",
        "\n",
        "*   Accessing List Items Using Positive Indexing\n",
        "*   Accessing List Items Using Negative Indexing\n",
        "\n"
      ],
      "metadata": {
        "id": "C-ErTCQOHVYQ"
      }
    },
    {
      "cell_type": "code",
      "source": [
        "fruits =['apple','banana', 'mango', 'orange']\n",
        "print(fruits[2])\n",
        "\n",
        "print(fruits[-1])\n",
        "print(fruits[len(fruits)-1])\n",
        "\n"
      ],
      "metadata": {
        "colab": {
          "base_uri": "https://localhost:8080/"
        },
        "id": "gu51YVJZa30t",
        "outputId": "59a33859-de65-47d5-fbb5-b90a44ea3288"
      },
      "execution_count": null,
      "outputs": [
        {
          "output_type": "stream",
          "name": "stdout",
          "text": [
            "mango\n",
            "orange\n",
            "orange\n"
          ]
        }
      ]
    },
    {
      "cell_type": "markdown",
      "source": [
        "# **Slicing Items from a List**\n",
        "\n",
        "\n",
        "*   Positive Indexing\n",
        "*   Negative Indexing\n",
        "\n"
      ],
      "metadata": {
        "id": "gOoc7pEJIeoR"
      }
    },
    {
      "cell_type": "code",
      "source": [
        "fruits =['apple','banana', 'mango', 'orange', 'grapes']\n",
        "print(fruits[0:2])\n",
        "print(fruits[1:])\n",
        "print(fruits[-2:3])\n",
        "print(fruits[-1:4])\n",
        "print(fruits[-2:4])\n",
        "print(fruits[::-1])\n"
      ],
      "metadata": {
        "colab": {
          "base_uri": "https://localhost:8080/"
        },
        "id": "Lk_7seYqIvmD",
        "outputId": "8463c8dd-f3ee-4aa8-c2ae-c78b5cad4edd"
      },
      "execution_count": null,
      "outputs": [
        {
          "output_type": "stream",
          "name": "stdout",
          "text": [
            "['apple', 'banana']\n",
            "['banana', 'mango', 'orange', 'grapes']\n",
            "[]\n",
            "[]\n",
            "['orange']\n",
            "['grapes', 'orange', 'mango', 'banana', 'apple']\n"
          ]
        }
      ]
    },
    {
      "cell_type": "markdown",
      "source": [
        "# **Membership Operators in List**\n",
        "To check if the specified item is present in a list or not we can use membership operators i'e `in` and `not in`"
      ],
      "metadata": {
        "id": "d5CfB4OMK7Qf"
      }
    },
    {
      "cell_type": "code",
      "source": [
        "fruits =['apple','banana', 'mango', 'orange', 'grapes']\n",
        "print('lemon' in fruits)\n",
        "print('mango' in fruits)\n",
        "print('mango' not in fruits)\n",
        "print('apple'  in fruits [0:4])\n",
        "print('apple'  in fruits [::-1])\n",
        "print('apple'  in fruits [0:-1])"
      ],
      "metadata": {
        "colab": {
          "base_uri": "https://localhost:8080/"
        },
        "id": "HziFpGg8w_Ue",
        "outputId": "5cb0f6c1-9f72-469d-90cf-c45c45227a9d"
      },
      "execution_count": null,
      "outputs": [
        {
          "output_type": "stream",
          "name": "stdout",
          "text": [
            "False\n",
            "True\n",
            "False\n",
            "True\n",
            "True\n",
            "True\n"
          ]
        }
      ]
    },
    {
      "cell_type": "markdown",
      "source": [
        "# **Modifying Lists**\n",
        "- List is a mutable or modifiable ordered collection of items.\n",
        "- To change the value of a specific item, refer to the index number."
      ],
      "metadata": {
        "id": "00EQLdkCLPKe"
      }
    },
    {
      "cell_type": "code",
      "source": [
        "fruits =['apple','banana', 'mango', 'orange', 'grapes']\n",
        "# fruits[2:4] = ''\n",
        "fruits [len(fruits) -1] = 'pineapple'\n",
        "print(fruits)\n",
        "\n",
        "fruits[fruits.index('mango')]= 'pineapple'\n",
        "print(fruits)"
      ],
      "metadata": {
        "id": "d7tceDX2Nxj2",
        "colab": {
          "base_uri": "https://localhost:8080/"
        },
        "outputId": "7a22d079-cb94-483f-9a32-35c0e566a47b"
      },
      "execution_count": null,
      "outputs": [
        {
          "output_type": "stream",
          "name": "stdout",
          "text": [
            "['apple', 'banana', 'mango', 'orange', 'pineapple']\n",
            "['apple', 'banana', 'pineapple', 'orange', 'pineapple']\n"
          ]
        }
      ]
    },
    {
      "cell_type": "markdown",
      "source": [
        "#**Add List Items**\n",
        "\n",
        "We can add items in the list using:\n",
        "\n",
        "\n",
        "*   `append()` method\n",
        "     - To add item to the end of an existing list we use the method append().\n",
        "*   `insert()` method\n",
        "    -  To insert a list item at a specified index, use the insert() method\n",
        "*   `extend()` method\n",
        "    - To append elements from another list to the current list, use the extend() method."
      ],
      "metadata": {
        "id": "q6XSzrMbN2HC"
      }
    },
    {
      "cell_type": "code",
      "source": [
        "fruits = ['Apple', 'Mango', 'Pineapple','Grapes']\n",
        "vegtables = ['Potato', 'tomato']\n",
        "#fruits.append('Banana')\n",
        "#print(fruits)\n",
        "\n",
        "#insert(index, item  to item)\n",
        "fruits.insert(1, 'Guave')\n",
        "print(fruits)\n",
        "\n",
        "# fruits.extend(vegtables)\n",
        "vegtables.extend(fruits)\n",
        "print(vegtables)\n",
        "\n",
        "\n"
      ],
      "metadata": {
        "id": "ie2YiG_Cfeny",
        "colab": {
          "base_uri": "https://localhost:8080/"
        },
        "outputId": "59d99dfa-3c7f-4e79-e706-253cf4f9d7f3"
      },
      "execution_count": null,
      "outputs": [
        {
          "output_type": "stream",
          "name": "stdout",
          "text": [
            "['Apple', 'Guave', 'Mango', 'Pineapple', 'Grapes']\n",
            "['Potato', 'tomato', 'Apple', 'Guave', 'Mango', 'Pineapple', 'Grapes']\n"
          ]
        }
      ]
    },
    {
      "cell_type": "markdown",
      "source": [
        "#**Remove List Items**\n",
        "\n",
        "We can remove items from list using:\n",
        "\n",
        "* `remove()` method\n",
        "\n",
        "* `pop()` method\n",
        "\n",
        "* `del` keyword\n",
        "\n",
        "* `clear()` method"
      ],
      "metadata": {
        "id": "VxavWxPNfrX5"
      }
    },
    {
      "cell_type": "code",
      "source": [
        "fruits = ['Apple', 'Mango', 'Pineapple','Grapes', 'Apple']\n",
        "#fruits.remove('Apple')\n",
        "#print(fruits)\n",
        "fruits.pop(0)\n",
        "print(fruits)\n",
        "# del fruits[1:3]\n",
        "# print(fruits\n",
        "# del fruits\n",
        "# print(fruits)\n",
        "\n",
        "\n",
        "#clear\n",
        "#fruits.clear()\n",
        "#print(fruits)\n",
        "\n",
        "\n",
        "\n"
      ],
      "metadata": {
        "id": "kCDD60Hylnnr",
        "colab": {
          "base_uri": "https://localhost:8080/"
        },
        "outputId": "d666216f-a347-4f84-ffbd-04310e985089"
      },
      "execution_count": null,
      "outputs": [
        {
          "output_type": "stream",
          "name": "stdout",
          "text": [
            "['Mango', 'Pineapple', 'Grapes', 'Apple']\n"
          ]
        }
      ]
    },
    {
      "cell_type": "markdown",
      "source": [
        "# **Copying a List**\n",
        "You cannot copy a list simply by typing ` list2 = list1, `\n",
        "\n",
        "because: list2 will only be a reference to list1, and changes made in list1 will automatically also be made in list2.\n",
        "\n",
        "There are ways to make a copy, one way is to use the built-in List method `copy().`"
      ],
      "metadata": {
        "id": "QvHujyy1mD7a"
      }
    },
    {
      "cell_type": "code",
      "source": [],
      "metadata": {
        "id": "aBH1oBmXI-45"
      },
      "execution_count": null,
      "outputs": []
    },
    {
      "cell_type": "code",
      "source": [
        "#list2 = ['Helo', 'World', 'Go to the Hell']\n",
        "#list2 = list1\n",
        "#print(list1)\n",
        "#list1.append('list1')\n",
        "#print(list1)\n",
        "#print(list2)\n",
        "\n",
        "list1 = ['Apple', 'Mango', 'Pineapple','Grapes']\n",
        "#copy1 = list1.copy()\n",
        "#print(copy1)\n",
        "#list1.append('Helo')\n",
        "#print(list1)\n",
        "#print(copy1)\n",
        "\n",
        "list()\n",
        "copy2 = list(list1)\n",
        "print(copy2)\n",
        "list1.append('Helo')\n",
        "print(list1)\n",
        "\n",
        "#string_1 = 'Helo'\n",
        "\n",
        "\n"
      ],
      "metadata": {
        "id": "sB0QEhBDorwP",
        "colab": {
          "base_uri": "https://localhost:8080/"
        },
        "outputId": "586fffef-6d0d-4d49-8839-95cad3e6bd26"
      },
      "execution_count": null,
      "outputs": [
        {
          "output_type": "stream",
          "name": "stdout",
          "text": [
            "['Apple', 'Mango', 'Pineapple', 'Grapes']\n",
            "['Apple', 'Mango', 'Pineapple', 'Grapes', 'Helo']\n"
          ]
        }
      ]
    },
    {
      "cell_type": "markdown",
      "source": [
        "#**Join List**\n",
        "\n",
        "There are several ways to join, or concatenate, two or more lists in Python.\n",
        "\n",
        "One of the easiest ways are by using the `+` operator.\n",
        "\n",
        "Another way to join two lists is by appending all the items from list2 into list1, one by one\n",
        "\n",
        "Or you can use the `extend()` method, which purpose is to add elements from one list to another list"
      ],
      "metadata": {
        "id": "MayNA0hnpAAu"
      }
    },
    {
      "cell_type": "code",
      "source": [
        "list1 = ['Apple', 'Mango', 'Pineapple','Grapes']\n",
        "list2 = ['Helo', 'World']\n",
        "\n",
        "# combine = list1 + list2\n",
        "# print(combine)\n",
        "\n",
        "\n",
        "list1.extend(list2)\n",
        "print(list1)"
      ],
      "metadata": {
        "id": "o_HtN6nDs-Q2",
        "colab": {
          "base_uri": "https://localhost:8080/"
        },
        "outputId": "525cc323-06db-4d7e-abeb-df1cc17f64b8"
      },
      "execution_count": null,
      "outputs": [
        {
          "output_type": "stream",
          "name": "stdout",
          "text": [
            "['Apple', 'Mango', 'Pineapple', 'Grapes', 'Helo', 'World']\n"
          ]
        }
      ]
    },
    {
      "cell_type": "markdown",
      "source": [
        "# **Counting Items in a List**\n",
        "The `count()` method returns the number of times an item appears in a list:"
      ],
      "metadata": {
        "id": "TsNpcK6YvAcS"
      }
    },
    {
      "cell_type": "code",
      "source": [
        "list1 = [22,22, 24, 25, 26, 24,25,88]\n",
        "print(list1.count(22))"
      ],
      "metadata": {
        "id": "5KdmiF-xvlMB",
        "colab": {
          "base_uri": "https://localhost:8080/"
        },
        "outputId": "0d877d0a-3435-4545-f8ef-0a4e55f011c6"
      },
      "execution_count": null,
      "outputs": [
        {
          "output_type": "stream",
          "name": "stdout",
          "text": [
            "2\n"
          ]
        }
      ]
    },
    {
      "cell_type": "markdown",
      "source": [
        "# **Finding Index of an Item**\n",
        "The `index()` method returns the index of an item in the list"
      ],
      "metadata": {
        "id": "G0Z8WXUNvoTX"
      }
    },
    {
      "cell_type": "code",
      "source": [
        "list1 = [22,22, 24, 25, 26, 24,25,88]\n",
        "print(list1.index(24))"
      ],
      "metadata": {
        "colab": {
          "base_uri": "https://localhost:8080/"
        },
        "id": "vsrmmxPGv2tr",
        "outputId": "79b8aeeb-d123-4f15-e7d6-ca9fbc03c0ca"
      },
      "execution_count": null,
      "outputs": [
        {
          "output_type": "stream",
          "name": "stdout",
          "text": [
            "2\n"
          ]
        }
      ]
    },
    {
      "cell_type": "markdown",
      "source": [
        "# **Reversing a List**\n",
        "The `reverse()` method reverses the order of a list."
      ],
      "metadata": {
        "id": "DiYu4IfOwCEM"
      }
    },
    {
      "cell_type": "code",
      "source": [
        "list1 = [22,22, 24, 25, 26, 24,25,88] #[::-1]\n",
        "list1.reverse()\n",
        "print(list1)"
      ],
      "metadata": {
        "id": "3TV6pfsUwF38",
        "colab": {
          "base_uri": "https://localhost:8080/"
        },
        "outputId": "de65e8e6-4db4-45d0-8768-3919f622e375"
      },
      "execution_count": null,
      "outputs": [
        {
          "output_type": "stream",
          "name": "stdout",
          "text": [
            "[88, 25, 24, 26, 25, 24, 22, 22]\n"
          ]
        }
      ]
    },
    {
      "cell_type": "markdown",
      "source": [
        "#**Sort List**\n",
        "\n",
        "List objects have a `sort()` method that will sort the list alphanumerically, ascending, by default.\n",
        "\n",
        "To sort descending, use the keyword argument `reverse = True`\n"
      ],
      "metadata": {
        "id": "S6B0-tCpwbTc"
      }
    },
    {
      "cell_type": "code",
      "source": [
        "list1 = ['Mango', 'Apple','pineapple']\n",
        "list1.sort(reverse = True)\n",
        "print(list1)\n",
        "\n",
        "\n",
        "list2 = [2,7,9,4,7,3,3]\n",
        "list2.sort(reverse = True)\n",
        "print(list2)\n",
        "\n",
        "\n",
        "# sorted()\n",
        "list1 = ['Mango', 'Apple','pineapple']\n",
        "sorted_list = sorted(list1)\n",
        "sorted(list1)\n",
        "print(sorted(list1, reverse = True))\n",
        "print(list1)\n",
        "\n"
      ],
      "metadata": {
        "colab": {
          "base_uri": "https://localhost:8080/"
        },
        "id": "4_G31ZkAA9jt",
        "outputId": "0041fc5a-564c-4179-de0c-1d239996dddd"
      },
      "execution_count": null,
      "outputs": [
        {
          "output_type": "stream",
          "name": "stdout",
          "text": [
            "['pineapple', 'Mango', 'Apple']\n",
            "[9, 7, 7, 4, 3, 3, 2]\n",
            "['pineapple', 'Mango', 'Apple']\n",
            "['Mango', 'Apple', 'pineapple']\n"
          ]
        }
      ]
    },
    {
      "cell_type": "markdown",
      "source": [
        "# **Nested List**\n",
        "If there is a sublist within a list, it is known as nested list. We can access the elements of nested list by using its indexes."
      ],
      "metadata": {
        "id": "-PszYFTUCF1_"
      }
    },
    {
      "cell_type": "code",
      "source": [
        "student = ['Ali', 'Marks', [54, 67], ['pass', 'fail']]\n",
        "# print(student)\n",
        "\n",
        "# print(student[1][0])\n",
        "\n",
        "student1 = student.copy()\n",
        "student1[2].append('Touseef')\n",
        "print(student1)\n",
        "print(student)\n",
        "\n",
        "\n",
        "\n"
      ],
      "metadata": {
        "colab": {
          "base_uri": "https://localhost:8080/"
        },
        "id": "7V4gE91BWMpb",
        "outputId": "1ef3f5b7-150e-479e-f702-ef148e06a950"
      },
      "execution_count": null,
      "outputs": [
        {
          "output_type": "stream",
          "name": "stdout",
          "text": [
            "['Ali', 'Marks', [54, 67, 'Touseef'], ['pass', 'fail']]\n",
            "['Ali', 'Marks', [54, 67, 'Touseef'], ['pass', 'fail']]\n"
          ]
        }
      ]
    },
    {
      "cell_type": "code",
      "source": [
        "sentence = 'Pyhton is amazing and very powerful'\n",
        "\n",
        "word = sentence.split()\n",
        "print(word)\n",
        "\n",
        "last_word = word[-1]\n",
        "print(last_word)\n",
        "\n",
        "print(len(last_word))"
      ],
      "metadata": {
        "colab": {
          "base_uri": "https://localhost:8080/"
        },
        "id": "PAi53YPrZYRa",
        "outputId": "619f9075-a76f-42ab-f634-83553e200da9"
      },
      "execution_count": null,
      "outputs": [
        {
          "output_type": "stream",
          "name": "stdout",
          "text": [
            "['Pyhton', 'is', 'amazing', 'and', 'very', 'powerful']\n",
            "powerful\n",
            "8\n"
          ]
        }
      ]
    }
  ]
}